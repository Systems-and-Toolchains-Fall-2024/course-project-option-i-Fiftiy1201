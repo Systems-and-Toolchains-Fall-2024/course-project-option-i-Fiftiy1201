{
 "cells": [
  {
   "cell_type": "markdown",
   "metadata": {},
   "source": [
    "Collaborator: Helen Yu, Lixin Xu"
   ]
  },
  {
   "cell_type": "code",
   "execution_count": 8,
   "metadata": {},
   "outputs": [],
   "source": [
    "import pyspark\n",
    "from pyspark.sql import SparkSession\n",
    "from pyspark import SparkContext, SQLContext\n",
    "from pyspark.sql.functions import *\n",
    "import matplotlib.pyplot as plt\n",
    "\n",
    "appName = \"Ingest Player Data\"  # adjust this if you'd like\n",
    "master = \"local\"                # adjust this if you'd like\n",
    "\n",
    "conf = pyspark.SparkConf()\\\n",
    "    .set('spark.driver.host','127.0.0.1')\\\n",
    "    .setAppName(appName)\\\n",
    "    .setMaster(master)\n",
    "\n",
    "sc = SparkContext.getOrCreate(conf=conf)\n",
    "\n",
    "sqlContext = SQLContext(sc)\n",
    "\n",
    "spark = sqlContext.sparkSession.builder.getOrCreate()"
   ]
  },
  {
   "cell_type": "markdown",
   "metadata": {},
   "source": [
    "# Construct Table and Save in Database"
   ]
  },
  {
   "cell_type": "code",
   "execution_count": 9,
   "metadata": {},
   "outputs": [
    {
     "name": "stderr",
     "output_type": "stream",
     "text": [
      "                                                                                \r"
     ]
    },
    {
     "name": "stdout",
     "output_type": "stream",
     "text": [
      "root\n",
      " |-- sofifa_id: integer (nullable = true)\n",
      " |-- player_url: string (nullable = true)\n",
      " |-- short_name: string (nullable = true)\n",
      " |-- long_name: string (nullable = true)\n",
      " |-- player_positions: string (nullable = true)\n",
      " |-- overall: integer (nullable = true)\n",
      " |-- potential: integer (nullable = true)\n",
      " |-- value_eur: string (nullable = true)\n",
      " |-- wage_eur: string (nullable = true)\n",
      " |-- age: integer (nullable = true)\n",
      " |-- dob: date (nullable = true)\n",
      " |-- height_cm: integer (nullable = true)\n",
      " |-- weight_kg: integer (nullable = true)\n",
      " |-- club_team_id: string (nullable = true)\n",
      " |-- club_name: string (nullable = true)\n",
      " |-- league_name: string (nullable = true)\n",
      " |-- league_level: string (nullable = true)\n",
      " |-- club_position: string (nullable = true)\n",
      " |-- club_jersey_number: string (nullable = true)\n",
      " |-- club_loaned_from: string (nullable = true)\n",
      " |-- club_joined: string (nullable = true)\n",
      " |-- club_contract_valid_until: string (nullable = true)\n",
      " |-- nationality_id: integer (nullable = true)\n",
      " |-- nationality_name: string (nullable = true)\n",
      " |-- nation_team_id: double (nullable = true)\n",
      " |-- nation_position: string (nullable = true)\n",
      " |-- nation_jersey_number: integer (nullable = true)\n",
      " |-- preferred_foot: string (nullable = true)\n",
      " |-- weak_foot: integer (nullable = true)\n",
      " |-- skill_moves: integer (nullable = true)\n",
      " |-- international_reputation: integer (nullable = true)\n",
      " |-- work_rate: string (nullable = true)\n",
      " |-- body_type: string (nullable = true)\n",
      " |-- real_face: string (nullable = true)\n",
      " |-- release_clause_eur: string (nullable = true)\n",
      " |-- player_tags: string (nullable = true)\n",
      " |-- player_traits: string (nullable = true)\n",
      " |-- pace: integer (nullable = true)\n",
      " |-- shooting: integer (nullable = true)\n",
      " |-- passing: integer (nullable = true)\n",
      " |-- dribbling: integer (nullable = true)\n",
      " |-- defending: integer (nullable = true)\n",
      " |-- physic: integer (nullable = true)\n",
      " |-- attacking_crossing: integer (nullable = true)\n",
      " |-- attacking_finishing: integer (nullable = true)\n",
      " |-- attacking_heading_accuracy: integer (nullable = true)\n",
      " |-- attacking_short_passing: integer (nullable = true)\n",
      " |-- attacking_volleys: integer (nullable = true)\n",
      " |-- skill_dribbling: integer (nullable = true)\n",
      " |-- skill_curve: integer (nullable = true)\n",
      " |-- skill_fk_accuracy: integer (nullable = true)\n",
      " |-- skill_long_passing: integer (nullable = true)\n",
      " |-- skill_ball_control: integer (nullable = true)\n",
      " |-- movement_acceleration: integer (nullable = true)\n",
      " |-- movement_sprint_speed: integer (nullable = true)\n",
      " |-- movement_agility: integer (nullable = true)\n",
      " |-- movement_reactions: integer (nullable = true)\n",
      " |-- movement_balance: integer (nullable = true)\n",
      " |-- power_shot_power: integer (nullable = true)\n",
      " |-- power_jumping: integer (nullable = true)\n",
      " |-- power_stamina: integer (nullable = true)\n",
      " |-- power_strength: integer (nullable = true)\n",
      " |-- power_long_shots: integer (nullable = true)\n",
      " |-- mentality_aggression: integer (nullable = true)\n",
      " |-- mentality_interceptions: integer (nullable = true)\n",
      " |-- mentality_positioning: integer (nullable = true)\n",
      " |-- mentality_vision: integer (nullable = true)\n",
      " |-- mentality_penalties: integer (nullable = true)\n",
      " |-- mentality_composure: string (nullable = true)\n",
      " |-- defending_marking_awareness: integer (nullable = true)\n",
      " |-- defending_standing_tackle: integer (nullable = true)\n",
      " |-- defending_sliding_tackle: integer (nullable = true)\n",
      " |-- goalkeeping_diving: integer (nullable = true)\n",
      " |-- goalkeeping_handling: integer (nullable = true)\n",
      " |-- goalkeeping_kicking: integer (nullable = true)\n",
      " |-- goalkeeping_positioning: integer (nullable = true)\n",
      " |-- goalkeeping_reflexes: integer (nullable = true)\n",
      " |-- goalkeeping_speed: integer (nullable = true)\n",
      " |-- ls: string (nullable = true)\n",
      " |-- st: string (nullable = true)\n",
      " |-- rs: string (nullable = true)\n",
      " |-- lw: string (nullable = true)\n",
      " |-- lf: string (nullable = true)\n",
      " |-- cf: string (nullable = true)\n",
      " |-- rf: string (nullable = true)\n",
      " |-- rw: string (nullable = true)\n",
      " |-- lam: string (nullable = true)\n",
      " |-- cam: string (nullable = true)\n",
      " |-- ram: string (nullable = true)\n",
      " |-- lm: string (nullable = true)\n",
      " |-- lcm: string (nullable = true)\n",
      " |-- cm: string (nullable = true)\n",
      " |-- rcm: string (nullable = true)\n",
      " |-- rm: string (nullable = true)\n",
      " |-- lwb: string (nullable = true)\n",
      " |-- ldm: string (nullable = true)\n",
      " |-- cdm: string (nullable = true)\n",
      " |-- rdm: string (nullable = true)\n",
      " |-- rwb: string (nullable = true)\n",
      " |-- lb: string (nullable = true)\n",
      " |-- lcb: string (nullable = true)\n",
      " |-- cb: string (nullable = true)\n",
      " |-- rcb: string (nullable = true)\n",
      " |-- rb: string (nullable = true)\n",
      " |-- gk: string (nullable = true)\n",
      " |-- player_face_url: string (nullable = true)\n",
      " |-- club_logo_url: string (nullable = true)\n",
      " |-- club_flag_url: string (nullable = true)\n",
      " |-- nation_logo_url: string (nullable = true)\n",
      " |-- nation_flag_url: string (nullable = true)\n",
      " |-- year: string (nullable = false)\n",
      " |-- gender: string (nullable = false)\n",
      "\n",
      "112\n"
     ]
    },
    {
     "name": "stderr",
     "output_type": "stream",
     "text": [
      "[Stage 85:====================================================>   (14 + 1) / 15]\r"
     ]
    },
    {
     "name": "stdout",
     "output_type": "stream",
     "text": [
      "144323\n"
     ]
    },
    {
     "name": "stderr",
     "output_type": "stream",
     "text": [
      "                                                                                \r"
     ]
    }
   ],
   "source": [
    "female_files = ['data/female_players_16.csv', 'data/female_players_17.csv', \n",
    "                'data/female_players_18.csv', 'data/female_players_19.csv', \n",
    "                'data/female_players_20.csv', 'data/female_players_21.csv', \n",
    "                'data/female_players_22.csv']\n",
    "\n",
    "male_files = ['data/players_15.csv', 'data/players_16.csv', 'data/players_17.csv', \n",
    "              'data/players_18.csv', 'data/players_19.csv', 'data/players_20.csv', \n",
    "              'data/players_21.csv', 'data/players_22.csv']\n",
    "\n",
    "female_df = None\n",
    "male_df = None\n",
    "\n",
    "# Load all female files\n",
    "for file in female_files:\n",
    "    year = '20' + file[-6:-4]\n",
    "    df = spark.read.csv(file, header=True, inferSchema=True)\n",
    "    df = df.withColumn('year', lit(year))\n",
    "    df = df.withColumn('gender', lit('Female'))\n",
    "    if female_df is None:\n",
    "        female_df = df\n",
    "    else:\n",
    "        female_df = female_df.union(df)\n",
    "\n",
    "# Load all male files\n",
    "for file in male_files:\n",
    "    year = '20' + file[-6:-4]\n",
    "    df = spark.read.csv(file, header=True, inferSchema=True)\n",
    "    df = df.withColumn('year', lit(year))\n",
    "    df = df.withColumn('gender', lit('Male'))\n",
    "    if male_df is None:\n",
    "        male_df = df\n",
    "    else:\n",
    "        male_df = male_df.union(df)\n",
    "\n",
    "# Combine both male and female data\n",
    "combined_df = female_df.union(male_df)\n",
    "\n",
    "combined_df.printSchema()\n",
    "print(len(combined_df.columns))\n",
    "print(combined_df.count())"
   ]
  },
  {
   "cell_type": "markdown",
   "metadata": {},
   "source": [
    "## !!! CHANGE DATABASE PROPERTIES TO YOURS !!!"
   ]
  },
  {
   "cell_type": "code",
   "execution_count": 10,
   "metadata": {},
   "outputs": [
    {
     "name": "stderr",
     "output_type": "stream",
     "text": [
      "                                                                                \r"
     ]
    }
   ],
   "source": [
    "db_properties = {\n",
    "    \"username\": \"postgres\",   \n",
    "    \"password\": \"password\",   \n",
    "    'url': \"jdbc:postgresql://localhost:5433/14787db\",  \n",
    "    'table': \"fifa\",\n",
    "    'driver': \"org.postgresql.Driver\"\n",
    "}\n",
    "\n",
    "combined_df.write.format(\"jdbc\")\\\n",
    "    .mode(\"overwrite\")\\\n",
    "    .option(\"url\", db_properties['url'])\\\n",
    "    .option(\"dbtable\", db_properties['table'])\\\n",
    "    .option(\"user\", db_properties['username'])\\\n",
    "    .option(\"password\", db_properties['password'])\\\n",
    "    .option(\"driver\", db_properties['driver'])\\\n",
    "    .save()"
   ]
  },
  {
   "cell_type": "markdown",
   "metadata": {},
   "source": [
    "# Spark Analysis"
   ]
  },
  {
   "cell_type": "code",
   "execution_count": 11,
   "metadata": {},
   "outputs": [
    {
     "name": "stdout",
     "output_type": "stream",
     "text": [
      "142079\n"
     ]
    }
   ],
   "source": [
    "df = sqlContext.read.format(\"jdbc\")\\\n",
    "    .option(\"url\", db_properties['url'])\\\n",
    "    .option(\"dbtable\", db_properties['table'])\\\n",
    "    .option(\"user\", db_properties['username'])\\\n",
    "    .option(\"password\", db_properties['password'])\\\n",
    "    .option(\"Driver\", db_properties['driver'])\\\n",
    "    .load()\n",
    "\n",
    "df = df.filter(df['gender'] == 'Male')\n",
    "print(df.count())"
   ]
  },
  {
   "cell_type": "markdown",
   "metadata": {},
   "source": [
    "## Function 1\n",
    "In Year X, what were the Y clubs that had the highest number of players with contracts ending in year Z (or after)?\n",
    "1.  X is a year between (2015 and 2022, inclusively).\n",
    "2.  Y is a positive integer.\n",
    "3.  Z is a year that can hold the value of 2023 or a year after it."
   ]
  },
  {
   "cell_type": "code",
   "execution_count": 12,
   "metadata": {},
   "outputs": [
    {
     "name": "stdout",
     "output_type": "stream",
     "text": [
      "+--------------------+------------+\n",
      "|           club_name|Player_Count|\n",
      "+--------------------+------------+\n",
      "|         Envigado FC|          14|\n",
      "|   Alianza Petrolera|          12|\n",
      "|Club Atlético Tem...|          12|\n",
      "|Club de Deportes ...|          12|\n",
      "| Seattle Sounders FC|          12|\n",
      "+--------------------+------------+\n",
      "\n"
     ]
    }
   ],
   "source": [
    "# Columns:  year, club_name, club_contract_valid_until\n",
    "\n",
    "def top_clubs_by_contract_end_year(df, X:str, Y:int, Z:str):\n",
    "    if type(X) != str:\n",
    "        raise TypeError(\"X must be an string\")\n",
    "    elif not (2015 <= int(X) <= 2022):\n",
    "        raise ValueError(\"X must be a year between 2015 and 2022 inclusively.\")\n",
    "    \n",
    "    if type(Y) != int:\n",
    "        raise TypeError(\"Y must be a positive integer\")\n",
    "    elif int(Y) <= 0:\n",
    "        raise ValueError((\"Y must be a positive integer\"))\n",
    "    \n",
    "    if type(Z) != str:\n",
    "        raise TypeError(\"X must be an string\")\n",
    "    elif int(Z) < 2023:\n",
    "        raise ValueError(\"Z must be a year that is 2023 or later.\")\n",
    "    \n",
    "    mask_1 = df[\"year\"] == X\n",
    "    mask_2 = df[\"club_contract_valid_until\"] >= Z\n",
    "    df = df.filter(mask_1 & mask_2)\n",
    "    \n",
    "    club_count_df = df.groupBy(\"club_name\") \\\n",
    "        .agg(count(\"club_name\").alias(\"Player_Count\")) \\\n",
    "        .orderBy(desc(\"Player_Count\")) \\\n",
    "        .limit(Y)\n",
    "    \n",
    "    club_count_df.show()\n",
    "\n",
    "\n",
    "X = '2017'\n",
    "Y = 5\n",
    "Z = '2023'\n",
    "\n",
    "top_clubs_by_contract_end_year(df, X, Y, Z)"
   ]
  },
  {
   "cell_type": "markdown",
   "metadata": {},
   "source": [
    "## Function 2\n",
    "In sports, maturity and energy of teams depend on the average age of team\n",
    "players (among other factors). Therefore, it’s important to have a function that\n",
    "can find clubs with such features.\n",
    "\n",
    "List the X clubs with the highest (or lowest) average player age for a given\n",
    "year Y.\n",
    "- X represents a positive integer, but you should handle a scenario if\n",
    "X is not positive value.\n",
    "- Y represents a year between 2015 and 2022 inclusively.\n",
    "- Provide the user with the ability to choose if they want the highest\n",
    "average age or the lowest average age.\n",
    "- Make sure to handle this scenario as well: if the user requests 5\n",
    "clubs with highest averages but there are 3 clubs that share the\n",
    "same count at rank number 5, please include all of them in your\n",
    "output"
   ]
  },
  {
   "cell_type": "code",
   "execution_count": 13,
   "metadata": {},
   "outputs": [
    {
     "name": "stdout",
     "output_type": "stream",
     "text": [
      "+--------------------+-----------+\n",
      "|           club_name|Average_Age|\n",
      "+--------------------+-----------+\n",
      "|           Fortaleza|       32.6|\n",
      "|            Cruzeiro|       31.6|\n",
      "|Club Athletico Pa...|       31.4|\n",
      "|            Botafogo|       31.4|\n",
      "|Associação Chapec...|       31.4|\n",
      "|             Avaí FC|       31.2|\n",
      "|          Fluminense|       31.2|\n",
      "| Ceará Sporting Club|       31.2|\n",
      "|               Goiás|       31.0|\n",
      "|               Bahia|       31.0|\n",
      "|              Grêmio|       31.0|\n",
      "+--------------------+-----------+\n",
      "\n"
     ]
    }
   ],
   "source": [
    "def club_by_avg_age (df, X, Y, orderby):\n",
    "    \n",
    "    if type(X) != int:\n",
    "        raise TypeError(\"X must be an integer\")\n",
    "    elif X <= 0:\n",
    "        raise ValueError(\"X should be a positive integer.\")\n",
    "    \n",
    "    if type(Y) != str:\n",
    "        raise TypeError(\"Y must be an string\")\n",
    "    elif not (2015 <= int(Y) <= 2022):\n",
    "        raise ValueError(\"Y should be between 2015 and 2022 inclusively.\")\n",
    "    \n",
    "    if orderby != 'highest' and orderby != 'lowest':\n",
    "        raise ValueError(\"orderby must either be 'highest' or 'lowest'.\")\n",
    "\n",
    "    mask_1 = df[\"year\"] == Y\n",
    "    df = df.filter(mask_1)  \n",
    "\n",
    "    avg_age_df = df.groupBy(\"club_name\") \\\n",
    "        .agg(avg(\"age\").alias(\"Average_Age\")) \\\n",
    "        .orderBy(desc(\"Average_Age\"))\n",
    "\n",
    "    sort_order = desc(\"Average_Age\") if orderby == 'highest' else asc(\"Average_Age\")\n",
    "    threshold_avg_age = avg_age_df.select(\"Average_Age\") \\\n",
    "        .distinct() \\\n",
    "        .orderBy(sort_order) \\\n",
    "        .limit(5) \\\n",
    "        .collect()[-1][\"Average_Age\"]\n",
    "\n",
    "    result_df = avg_age_df.filter(col(\"Average_Age\") >= threshold_avg_age)\n",
    "\n",
    "    result_df.show()\n",
    "\n",
    "\n",
    "X = 5\n",
    "Y = '2020'\n",
    "orderby = 'highest'\n",
    "club_by_avg_age(df, X, Y, orderby)"
   ]
  },
  {
   "cell_type": "markdown",
   "metadata": {},
   "source": [
    "## Function 3\n",
    "What is the most popular nationality in the dataset for each year? (i.e. display the most frequent nation for 2015, 2016, etc.)"
   ]
  },
  {
   "cell_type": "code",
   "execution_count": 14,
   "metadata": {},
   "outputs": [
    {
     "name": "stdout",
     "output_type": "stream",
     "text": [
      "+----+----------------+---------+\n",
      "|year|nationality_name|max_count|\n",
      "+----+----------------+---------+\n",
      "|2015|         England|     1627|\n",
      "|2016|         England|     1519|\n",
      "|2017|         England|     1627|\n",
      "|2018|         England|     1633|\n",
      "|2019|         England|     1625|\n",
      "|2020|         England|     1670|\n",
      "|2021|         England|     1685|\n",
      "|2022|         England|     1719|\n",
      "+----+----------------+---------+\n",
      "\n"
     ]
    }
   ],
   "source": [
    "from pyspark.sql.window import Window\n",
    "\n",
    "def most_popular_nationality(df):   \n",
    "    count_df = df.groupBy(\"year\", \"nationality_name\") \\\n",
    "        .count() \\\n",
    "        .withColumnRenamed(\"count\", \"nationality_count\")\n",
    "\n",
    "    window = Window.partitionBy(\"year\").orderBy(desc(\"nationality_count\"))\n",
    "\n",
    "    result_df = count_df \\\n",
    "        .withColumn(\"rank\", row_number().over(window)) \\\n",
    "        .filter(col(\"rank\") == 1) \\\n",
    "        .select(\"year\", \"nationality_name\", col(\"nationality_count\").alias(\"max_count\"))\n",
    "    \n",
    "    result_df.show()\n",
    "\n",
    "most_popular_nationality(df)"
   ]
  }
 ],
 "metadata": {
  "kernelspec": {
   "display_name": "base",
   "language": "python",
   "name": "python3"
  },
  "language_info": {
   "codemirror_mode": {
    "name": "ipython",
    "version": 3
   },
   "file_extension": ".py",
   "mimetype": "text/x-python",
   "name": "python",
   "nbconvert_exporter": "python",
   "pygments_lexer": "ipython3",
   "version": "3.10.13"
  }
 },
 "nbformat": 4,
 "nbformat_minor": 2
}
